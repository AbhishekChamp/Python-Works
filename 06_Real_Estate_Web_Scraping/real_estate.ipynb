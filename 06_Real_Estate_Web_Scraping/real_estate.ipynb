{
 "cells": [
  {
   "cell_type": "markdown",
   "metadata": {},
   "source": [
    "# Web Scraping Using Python\n",
    "Here we have used real-estate data for doing the web scraping. We have also exported results to Output.csv and Output_all_pages.csv"
   ]
  },
  {
   "cell_type": "code",
   "execution_count": 2,
   "metadata": {},
   "outputs": [],
   "source": [
    "import requests\n",
    "from bs4 import BeautifulSoup"
   ]
  },
  {
   "cell_type": "code",
   "execution_count": 3,
   "metadata": {},
   "outputs": [],
   "source": [
    "r = requests.get(\"https://pythonizing.github.io/data/real-estate/rock-springs-wy/LCWYROCKSPRINGS/\", headers={'User-agent': 'Mozilla/5.0 (X11; Ubuntu; Linux x86_64; rv:61.0) Gecko/20100101 Firefox/61.0'})\n",
    "c = r.content"
   ]
  },
  {
   "cell_type": "code",
   "execution_count": 4,
   "metadata": {},
   "outputs": [],
   "source": [
    "soup = BeautifulSoup(c, \"html.parser\")"
   ]
  },
  {
   "cell_type": "code",
   "execution_count": 5,
   "metadata": {},
   "outputs": [],
   "source": [
    "all = soup.find_all(\"div\", {\"class\" : \"propertyRow\"})"
   ]
  },
  {
   "cell_type": "code",
   "execution_count": 6,
   "metadata": {},
   "outputs": [
    {
     "data": {
      "text/plain": [
       "bs4.element.ResultSet"
      ]
     },
     "execution_count": 6,
     "metadata": {},
     "output_type": "execute_result"
    }
   ],
   "source": [
    "type(all)"
   ]
  },
  {
   "cell_type": "code",
   "execution_count": 7,
   "metadata": {},
   "outputs": [
    {
     "data": {
      "text/plain": [
       "10"
      ]
     },
     "execution_count": 7,
     "metadata": {},
     "output_type": "execute_result"
    }
   ],
   "source": [
    "len(all)"
   ]
  },
  {
   "cell_type": "code",
   "execution_count": 8,
   "metadata": {},
   "outputs": [
    {
     "data": {
      "text/plain": [
       "<h4 class=\"propPrice\">\n",
       "\n",
       "\n",
       "            $725,000\n",
       "\n",
       "\n",
       "\n",
       "      <span class=\"IconPropertyFavorite16\"></span>\n",
       "</h4>"
      ]
     },
     "execution_count": 8,
     "metadata": {},
     "output_type": "execute_result"
    }
   ],
   "source": [
    "all[0].find(\"h4\", {\"class\" : \"propPrice\"})"
   ]
  },
  {
   "cell_type": "code",
   "execution_count": 9,
   "metadata": {},
   "outputs": [
    {
     "data": {
      "text/plain": [
       "'\\n\\n\\n            $725,000\\n\\n\\n\\n      \\n'"
      ]
     },
     "execution_count": 9,
     "metadata": {},
     "output_type": "execute_result"
    }
   ],
   "source": [
    "all[0].find(\"h4\", {\"class\" : \"propPrice\"}).text"
   ]
  },
  {
   "cell_type": "code",
   "execution_count": 10,
   "metadata": {},
   "outputs": [
    {
     "data": {
      "text/plain": [
       "'$725,000'"
      ]
     },
     "execution_count": 10,
     "metadata": {},
     "output_type": "execute_result"
    }
   ],
   "source": [
    "all[0].find(\"h4\", {\"class\" : \"propPrice\"}).text.replace(\"\\n\",\"\").replace(\" \",\"\")"
   ]
  },
  {
   "cell_type": "code",
   "execution_count": 11,
   "metadata": {},
   "outputs": [
    {
     "name": "stdout",
     "output_type": "stream",
     "text": [
      "$725,000\n",
      "0 Gateway\n",
      "Rock Springs, WY 82901\n",
      "None\n",
      "None\n",
      "None\n",
      "None\n",
      "\n",
      "$452,900\n",
      "1003 Winchester Blvd.\n",
      "Rock Springs, WY 82901\n",
      "4\n",
      "None\n",
      "4\n",
      "None\n",
      "0.21 Acres\n",
      "\n",
      "$396,900\n",
      "600 Talladega\n",
      "Rock Springs, WY 82901\n",
      "5\n",
      "3,154\n",
      "3\n",
      "None\n",
      "\n",
      "$389,900\n",
      "3239 Spearhead Way\n",
      "Rock Springs, WY 82901\n",
      "4\n",
      "3,076\n",
      "3\n",
      "1\n",
      "Under 1/2 Acre, \n",
      "\n",
      "$254,000\n",
      "522 Emerald Street\n",
      "Rock Springs, WY 82901\n",
      "3\n",
      "1,172\n",
      "3\n",
      "None\n",
      "Under 1/2 Acre, \n",
      "\n",
      "$252,900\n",
      "1302 Veteran's Drive\n",
      "Rock Springs, WY 82901\n",
      "4\n",
      "1,932\n",
      "2\n",
      "None\n",
      "0.27 Acres\n",
      "\n",
      "$210,000\n",
      "1021 Cypress Cir\n",
      "Rock Springs, WY 82901\n",
      "4\n",
      "1,676\n",
      "3\n",
      "None\n",
      "Under 1/2 Acre, \n",
      "\n",
      "$209,000\n",
      "913 Madison Dr\n",
      "Rock Springs, WY 82901\n",
      "3\n",
      "1,344\n",
      "2\n",
      "None\n",
      "Under 1/2 Acre, \n",
      "\n",
      "$199,900\n",
      "1344 Teton Street\n",
      "Rock Springs, WY 82901\n",
      "3\n",
      "1,920\n",
      "2\n",
      "None\n",
      "Under 1/2 Acre, \n",
      "\n",
      "$196,900\n",
      "4 Minnies Lane\n",
      "Rock Springs, WY 82901\n",
      "3\n",
      "1,664\n",
      "2\n",
      "None\n",
      "2.02 Acres\n",
      "\n"
     ]
    }
   ],
   "source": [
    "for item in all:\n",
    "    print(item.find(\"h4\", {\"class\", \"propPrice\"}).text.replace(\"\\n\", \"\").replace(\" \",\"\"))\n",
    "    print(item.find_all(\"span\", {\"class\", \"propAddressCollapse\"})[0].text)\n",
    "    print(item.find_all(\"span\", {\"class\", \"propAddressCollapse\"})[1].text)\n",
    "    try:\n",
    "        print(item.find(\"span\", {\"class\",\"infoBed\"}).find(\"b\").text)\n",
    "    except:\n",
    "        print(None)\n",
    "    try:\n",
    "        print(item.find(\"span\", {\"class\",\"infoSqFt\"}).find(\"b\").text)\n",
    "    except:\n",
    "        print(None)\n",
    "    try:\n",
    "        print(item.find(\"span\", {\"class\",\"infoValueFullBath\"}).find(\"b\").text)\n",
    "    except:\n",
    "        print(None)\n",
    "    try:\n",
    "        print(item.find(\"span\", {\"class\",\"infoValueHalfBath\"}).find(\"b\").text)\n",
    "    except:\n",
    "        print(None)\n",
    "    for column_group in item.find_all(\"div\", {\"class\",\"columnGroup\"}):\n",
    "        for feature_group, feature_name in zip(column_group.find_all(\"span\", {\"class\", \"featureGroup\"}), column_group.find_all(\"span\", {\"class\", \"featureName\"})):\n",
    "            if \"Lot Size\" in feature_group.text:\n",
    "                print(feature_name.text)\n",
    "    print()"
   ]
  },
  {
   "cell_type": "markdown",
   "metadata": {},
   "source": [
    "# Storing data in csv file"
   ]
  },
  {
   "cell_type": "code",
   "execution_count": 27,
   "metadata": {},
   "outputs": [],
   "source": [
    "l = []\n",
    "for item in all:\n",
    "    d = {}\n",
    "    d[\"Price\"] = item.find(\"h4\", {\"class\", \"propPrice\"}).text.replace(\"\\n\", \"\").replace(\" \",\"\")\n",
    "    d[\"Locality\"] = item.find_all(\"span\", {\"class\", \"propAddressCollapse\"})[0].text\n",
    "    d[\"Address\"] = item.find_all(\"span\", {\"class\", \"propAddressCollapse\"})[1].text\n",
    "    try:\n",
    "        d[\"Beds\"] = item.find(\"span\", {\"class\",\"infoBed\"}).find(\"b\").text\n",
    "    except:\n",
    "        d[\"Beds\"] = None\n",
    "    try:\n",
    "        d[\"Area\"] = item.find(\"span\", {\"class\",\"infoSqFt\"}).find(\"b\").text\n",
    "    except:\n",
    "        d[\"Area\"] = None\n",
    "    try:\n",
    "        d[\"Full Baths\"] = item.find(\"span\", {\"class\",\"infoValueFullBath\"}).find(\"b\").text\n",
    "    except:\n",
    "        d[\"Full Baths\"] = None\n",
    "    try:\n",
    "        d[\"Half Baths\"] = item.find(\"span\", {\"class\",\"infoValueHalfBath\"}).find(\"b\").text\n",
    "    except:\n",
    "        d[\"Half Baths\"] = None\n",
    "    for column_group in item.find_all(\"div\", {\"class\",\"columnGroup\"}):\n",
    "        for feature_group, feature_name in zip(column_group.find_all(\"span\", {\"class\", \"featureGroup\"}), column_group.find_all(\"span\", {\"class\", \"featureName\"})):\n",
    "            if \"Lot Size\" in feature_group.text:\n",
    "                d[\"Lot Size\"] = feature_name.text\n",
    "    l.append(d)"
   ]
  },
  {
   "cell_type": "code",
   "execution_count": 13,
   "metadata": {},
   "outputs": [
    {
     "data": {
      "text/plain": [
       "[{'Address': '$725,000',\n",
       "  'Locality': '0 Gateway',\n",
       "  'Price': 'Rock Springs, WY 82901',\n",
       "  'Beds': None,\n",
       "  'Area': None,\n",
       "  'Full Baths': None,\n",
       "  'Half Baths': None},\n",
       " {'Address': '$452,900',\n",
       "  'Locality': '1003 Winchester Blvd.',\n",
       "  'Price': 'Rock Springs, WY 82901',\n",
       "  'Beds': '4',\n",
       "  'Area': None,\n",
       "  'Full Baths': '4',\n",
       "  'Half Baths': None,\n",
       "  'Lot Size': '0.21 Acres'},\n",
       " {'Address': '$396,900',\n",
       "  'Locality': '600 Talladega',\n",
       "  'Price': 'Rock Springs, WY 82901',\n",
       "  'Beds': '5',\n",
       "  'Area': '3,154',\n",
       "  'Full Baths': '3',\n",
       "  'Half Baths': None},\n",
       " {'Address': '$389,900',\n",
       "  'Locality': '3239 Spearhead Way',\n",
       "  'Price': 'Rock Springs, WY 82901',\n",
       "  'Beds': '4',\n",
       "  'Area': '3,076',\n",
       "  'Full Baths': '3',\n",
       "  'Half Baths': '1',\n",
       "  'Lot Size': 'Under 1/2 Acre, '},\n",
       " {'Address': '$254,000',\n",
       "  'Locality': '522 Emerald Street',\n",
       "  'Price': 'Rock Springs, WY 82901',\n",
       "  'Beds': '3',\n",
       "  'Area': '1,172',\n",
       "  'Full Baths': '3',\n",
       "  'Half Baths': None,\n",
       "  'Lot Size': 'Under 1/2 Acre, '},\n",
       " {'Address': '$252,900',\n",
       "  'Locality': \"1302 Veteran's Drive\",\n",
       "  'Price': 'Rock Springs, WY 82901',\n",
       "  'Beds': '4',\n",
       "  'Area': '1,932',\n",
       "  'Full Baths': '2',\n",
       "  'Half Baths': None,\n",
       "  'Lot Size': '0.27 Acres'},\n",
       " {'Address': '$210,000',\n",
       "  'Locality': '1021 Cypress Cir',\n",
       "  'Price': 'Rock Springs, WY 82901',\n",
       "  'Beds': '4',\n",
       "  'Area': '1,676',\n",
       "  'Full Baths': '3',\n",
       "  'Half Baths': None,\n",
       "  'Lot Size': 'Under 1/2 Acre, '},\n",
       " {'Address': '$209,000',\n",
       "  'Locality': '913 Madison Dr',\n",
       "  'Price': 'Rock Springs, WY 82901',\n",
       "  'Beds': '3',\n",
       "  'Area': '1,344',\n",
       "  'Full Baths': '2',\n",
       "  'Half Baths': None,\n",
       "  'Lot Size': 'Under 1/2 Acre, '},\n",
       " {'Address': '$199,900',\n",
       "  'Locality': '1344 Teton Street',\n",
       "  'Price': 'Rock Springs, WY 82901',\n",
       "  'Beds': '3',\n",
       "  'Area': '1,920',\n",
       "  'Full Baths': '2',\n",
       "  'Half Baths': None,\n",
       "  'Lot Size': 'Under 1/2 Acre, '},\n",
       " {'Address': '$196,900',\n",
       "  'Locality': '4 Minnies Lane',\n",
       "  'Price': 'Rock Springs, WY 82901',\n",
       "  'Beds': '3',\n",
       "  'Area': '1,664',\n",
       "  'Full Baths': '2',\n",
       "  'Half Baths': None,\n",
       "  'Lot Size': '2.02 Acres'}]"
      ]
     },
     "execution_count": 13,
     "metadata": {},
     "output_type": "execute_result"
    }
   ],
   "source": [
    "l"
   ]
  },
  {
   "cell_type": "code",
   "execution_count": 28,
   "metadata": {},
   "outputs": [],
   "source": [
    "import pandas\n",
    "df = pandas.DataFrame(l)"
   ]
  },
  {
   "cell_type": "code",
   "execution_count": 29,
   "metadata": {},
   "outputs": [
    {
     "data": {
      "text/html": [
       "<div>\n",
       "<style scoped>\n",
       "    .dataframe tbody tr th:only-of-type {\n",
       "        vertical-align: middle;\n",
       "    }\n",
       "\n",
       "    .dataframe tbody tr th {\n",
       "        vertical-align: top;\n",
       "    }\n",
       "\n",
       "    .dataframe thead th {\n",
       "        text-align: right;\n",
       "    }\n",
       "</style>\n",
       "<table border=\"1\" class=\"dataframe\">\n",
       "  <thead>\n",
       "    <tr style=\"text-align: right;\">\n",
       "      <th></th>\n",
       "      <th>Price</th>\n",
       "      <th>Locality</th>\n",
       "      <th>Address</th>\n",
       "      <th>Beds</th>\n",
       "      <th>Area</th>\n",
       "      <th>Full Baths</th>\n",
       "      <th>Half Baths</th>\n",
       "      <th>Lot Size</th>\n",
       "    </tr>\n",
       "  </thead>\n",
       "  <tbody>\n",
       "    <tr>\n",
       "      <th>0</th>\n",
       "      <td>$299,900</td>\n",
       "      <td>32575 S Shadow Mountain Road</td>\n",
       "      <td>Black Canyon City, AZ 85324</td>\n",
       "      <td>3</td>\n",
       "      <td>2,318</td>\n",
       "      <td>2</td>\n",
       "      <td>None</td>\n",
       "      <td>NaN</td>\n",
       "    </tr>\n",
       "    <tr>\n",
       "      <th>1</th>\n",
       "      <td>$167,500</td>\n",
       "      <td>32750 S Shangrila Drive</td>\n",
       "      <td>Black Canyon City, AZ 85324</td>\n",
       "      <td>3</td>\n",
       "      <td>2,120</td>\n",
       "      <td>2</td>\n",
       "      <td>None</td>\n",
       "      <td>NaN</td>\n",
       "    </tr>\n",
       "    <tr>\n",
       "      <th>2</th>\n",
       "      <td>$150,000</td>\n",
       "      <td>0000 Black Canyon Highway</td>\n",
       "      <td>Black Canyon City, AZ 85324</td>\n",
       "      <td>None</td>\n",
       "      <td>None</td>\n",
       "      <td>None</td>\n",
       "      <td>None</td>\n",
       "      <td>5 Acres</td>\n",
       "    </tr>\n",
       "    <tr>\n",
       "      <th>3</th>\n",
       "      <td>$129,500</td>\n",
       "      <td>34775 S CHOLLA Drive</td>\n",
       "      <td>Black Canyon City, AZ 85324</td>\n",
       "      <td>3</td>\n",
       "      <td>1,220</td>\n",
       "      <td>2</td>\n",
       "      <td>None</td>\n",
       "      <td>NaN</td>\n",
       "    </tr>\n",
       "    <tr>\n",
       "      <th>4</th>\n",
       "      <td>$129,000</td>\n",
       "      <td>33403 S. HA-WA-SI TERRACE</td>\n",
       "      <td>BLACK CANYON CITY, AZ 85324</td>\n",
       "      <td>4</td>\n",
       "      <td>2,000</td>\n",
       "      <td>2</td>\n",
       "      <td>None</td>\n",
       "      <td>NaN</td>\n",
       "    </tr>\n",
       "    <tr>\n",
       "      <th>5</th>\n",
       "      <td>$80,000</td>\n",
       "      <td>34263 S Bertha Street</td>\n",
       "      <td>Black Canyon City, AZ 85324</td>\n",
       "      <td>5</td>\n",
       "      <td>2,260</td>\n",
       "      <td>2</td>\n",
       "      <td>None</td>\n",
       "      <td>NaN</td>\n",
       "    </tr>\n",
       "    <tr>\n",
       "      <th>6</th>\n",
       "      <td>$77,900</td>\n",
       "      <td>33160 S Canyon Road</td>\n",
       "      <td>Black Canyon City, AZ 85324</td>\n",
       "      <td>3</td>\n",
       "      <td>1,248</td>\n",
       "      <td>2</td>\n",
       "      <td>None</td>\n",
       "      <td>NaN</td>\n",
       "    </tr>\n",
       "    <tr>\n",
       "      <th>7</th>\n",
       "      <td>$70,500</td>\n",
       "      <td>19421 E Todd Evans Road</td>\n",
       "      <td>Black Canyon City, AZ 85324</td>\n",
       "      <td>3</td>\n",
       "      <td>1,404</td>\n",
       "      <td>2</td>\n",
       "      <td>None</td>\n",
       "      <td>NaN</td>\n",
       "    </tr>\n",
       "    <tr>\n",
       "      <th>8</th>\n",
       "      <td>$70,000</td>\n",
       "      <td>18688 E AGUA Vista</td>\n",
       "      <td>Black Canyon City, AZ 85324</td>\n",
       "      <td>None</td>\n",
       "      <td>None</td>\n",
       "      <td>None</td>\n",
       "      <td>None</td>\n",
       "      <td>0.7 Acres</td>\n",
       "    </tr>\n",
       "    <tr>\n",
       "      <th>9</th>\n",
       "      <td>$67,500</td>\n",
       "      <td>50600 N Old Black Canyon Road</td>\n",
       "      <td>Black Canyon City, AZ 85324</td>\n",
       "      <td>None</td>\n",
       "      <td>None</td>\n",
       "      <td>None</td>\n",
       "      <td>None</td>\n",
       "      <td>3 Acres</td>\n",
       "    </tr>\n",
       "    <tr>\n",
       "      <th>10</th>\n",
       "      <td>$54,900</td>\n",
       "      <td>20101 E SQUAW VALLEY Road</td>\n",
       "      <td>Black Canyon City, AZ 85324</td>\n",
       "      <td>None</td>\n",
       "      <td>None</td>\n",
       "      <td>None</td>\n",
       "      <td>None</td>\n",
       "      <td>NaN</td>\n",
       "    </tr>\n",
       "    <tr>\n",
       "      <th>11</th>\n",
       "      <td>$45,600</td>\n",
       "      <td>33259 S Canyon Road</td>\n",
       "      <td>Black Canyon City, AZ 85324</td>\n",
       "      <td>3</td>\n",
       "      <td>1,056</td>\n",
       "      <td>1</td>\n",
       "      <td>None</td>\n",
       "      <td>NaN</td>\n",
       "    </tr>\n",
       "    <tr>\n",
       "      <th>12</th>\n",
       "      <td>$40,000</td>\n",
       "      <td>34558 S ROADRUNNER RD</td>\n",
       "      <td>Black Canyon City, AZ 85324</td>\n",
       "      <td>2</td>\n",
       "      <td>784</td>\n",
       "      <td>1</td>\n",
       "      <td>None</td>\n",
       "      <td>Under 1/2 Acre</td>\n",
       "    </tr>\n",
       "    <tr>\n",
       "      <th>13</th>\n",
       "      <td>$30,000</td>\n",
       "      <td>19260 E Scenic Loop Road</td>\n",
       "      <td>Black Canyon City, AZ 85324</td>\n",
       "      <td>None</td>\n",
       "      <td>None</td>\n",
       "      <td>None</td>\n",
       "      <td>None</td>\n",
       "      <td>2.35 Acres</td>\n",
       "    </tr>\n",
       "    <tr>\n",
       "      <th>14</th>\n",
       "      <td>$29,000</td>\n",
       "      <td>19000 E MAREN Avenue</td>\n",
       "      <td>Black Canyon City, AZ 85324</td>\n",
       "      <td>None</td>\n",
       "      <td>None</td>\n",
       "      <td>None</td>\n",
       "      <td>None</td>\n",
       "      <td>2.05 Acres</td>\n",
       "    </tr>\n",
       "    <tr>\n",
       "      <th>15</th>\n",
       "      <td>$28,995</td>\n",
       "      <td>19350 E SAGUARO Drive</td>\n",
       "      <td>Black Canyon City, AZ 85324</td>\n",
       "      <td>None</td>\n",
       "      <td>None</td>\n",
       "      <td>None</td>\n",
       "      <td>None</td>\n",
       "      <td>0.73 Acres</td>\n",
       "    </tr>\n",
       "    <tr>\n",
       "      <th>16</th>\n",
       "      <td>$15,000</td>\n",
       "      <td>20650 E Amethyst Place</td>\n",
       "      <td>Black Canyon City, AZ 85324</td>\n",
       "      <td>None</td>\n",
       "      <td>None</td>\n",
       "      <td>None</td>\n",
       "      <td>None</td>\n",
       "      <td>0.31 Acres</td>\n",
       "    </tr>\n",
       "  </tbody>\n",
       "</table>\n",
       "</div>"
      ],
      "text/plain": [
       "       Price                       Locality                      Address  \\\n",
       "0   $299,900   32575 S Shadow Mountain Road  Black Canyon City, AZ 85324   \n",
       "1   $167,500        32750 S Shangrila Drive  Black Canyon City, AZ 85324   \n",
       "2   $150,000      0000 Black Canyon Highway  Black Canyon City, AZ 85324   \n",
       "3   $129,500           34775 S CHOLLA Drive  Black Canyon City, AZ 85324   \n",
       "4   $129,000      33403 S. HA-WA-SI TERRACE  BLACK CANYON CITY, AZ 85324   \n",
       "5    $80,000          34263 S Bertha Street  Black Canyon City, AZ 85324   \n",
       "6    $77,900            33160 S Canyon Road  Black Canyon City, AZ 85324   \n",
       "7    $70,500        19421 E Todd Evans Road  Black Canyon City, AZ 85324   \n",
       "8    $70,000             18688 E AGUA Vista  Black Canyon City, AZ 85324   \n",
       "9    $67,500  50600 N Old Black Canyon Road  Black Canyon City, AZ 85324   \n",
       "10   $54,900      20101 E SQUAW VALLEY Road  Black Canyon City, AZ 85324   \n",
       "11   $45,600            33259 S Canyon Road  Black Canyon City, AZ 85324   \n",
       "12   $40,000          34558 S ROADRUNNER RD  Black Canyon City, AZ 85324   \n",
       "13   $30,000       19260 E Scenic Loop Road  Black Canyon City, AZ 85324   \n",
       "14   $29,000           19000 E MAREN Avenue  Black Canyon City, AZ 85324   \n",
       "15   $28,995          19350 E SAGUARO Drive  Black Canyon City, AZ 85324   \n",
       "16   $15,000         20650 E Amethyst Place  Black Canyon City, AZ 85324   \n",
       "\n",
       "    Beds   Area Full Baths Half Baths        Lot Size  \n",
       "0      3  2,318          2       None             NaN  \n",
       "1      3  2,120          2       None             NaN  \n",
       "2   None   None       None       None         5 Acres  \n",
       "3      3  1,220          2       None             NaN  \n",
       "4      4  2,000          2       None             NaN  \n",
       "5      5  2,260          2       None             NaN  \n",
       "6      3  1,248          2       None             NaN  \n",
       "7      3  1,404          2       None             NaN  \n",
       "8   None   None       None       None       0.7 Acres  \n",
       "9   None   None       None       None         3 Acres  \n",
       "10  None   None       None       None             NaN  \n",
       "11     3  1,056          1       None             NaN  \n",
       "12     2    784          1       None  Under 1/2 Acre  \n",
       "13  None   None       None       None      2.35 Acres  \n",
       "14  None   None       None       None      2.05 Acres  \n",
       "15  None   None       None       None      0.73 Acres  \n",
       "16  None   None       None       None      0.31 Acres  "
      ]
     },
     "execution_count": 29,
     "metadata": {},
     "output_type": "execute_result"
    }
   ],
   "source": [
    "df"
   ]
  },
  {
   "cell_type": "code",
   "execution_count": 16,
   "metadata": {},
   "outputs": [],
   "source": [
    "df.to_csv(\"Output.csv\")"
   ]
  },
  {
   "cell_type": "markdown",
   "metadata": {},
   "source": [
    "# Crawling through Multiple Web pages"
   ]
  },
  {
   "cell_type": "code",
   "execution_count": 23,
   "metadata": {},
   "outputs": [
    {
     "name": "stdout",
     "output_type": "stream",
     "text": [
      "https://pythonizing.github.io/data/real-estate/rock-springs-wy/LCWYROCKSPRINGS/t=0&s=0.html\n",
      "https://pythonizing.github.io/data/real-estate/rock-springs-wy/LCWYROCKSPRINGS/t=0&s=10.html\n",
      "https://pythonizing.github.io/data/real-estate/rock-springs-wy/LCWYROCKSPRINGS/t=0&s=20.html\n"
     ]
    }
   ],
   "source": [
    "page_number = soup.find_all(\"a\", {\"class\": \"Page\"})[-1].text\n",
    "l2 = []\n",
    "base_url = \"https://pythonizing.github.io/data/real-estate/rock-springs-wy/LCWYROCKSPRINGS/t=0&s=\"\n",
    "for page in range(0,int(page_number)*10,10):\n",
    "    print(base_url+str(page)+\".html\")\n",
    "    r = requests.get(base_url+str(page))\n",
    "    c = r.content\n",
    "    soup = BeautifulSoup(c, 'html.parser')\n",
    "    all = soup.find_all(\"div\", {\"class\", \"propertyRow\"})\n",
    "    for item in all:\n",
    "        d = {}\n",
    "        d[\"Price\"] = item.find(\"h4\", {\"class\", \"propPrice\"}).text.replace(\"\\n\", \"\").replace(\" \",\"\")\n",
    "        try:\n",
    "            d[\"Locality\"] = item.find_all(\"span\", {\"class\", \"propAddressCollapse\"})[0].text\n",
    "        except:\n",
    "            d[\"Locality\"] = None\n",
    "        d[\"Address\"] = item.find_all(\"span\", {\"class\", \"propAddressCollapse\"})[1].text\n",
    "        try:\n",
    "            d[\"Beds\"] = item.find(\"span\", {\"class\",\"infoBed\"}).find(\"b\").text\n",
    "        except:\n",
    "            d[\"Beds\"] = None\n",
    "        try:\n",
    "            d[\"Area\"] = item.find(\"span\", {\"class\",\"infoSqFt\"}).find(\"b\").text\n",
    "        except:\n",
    "            d[\"Area\"] = None\n",
    "        try:\n",
    "            d[\"Full Baths\"] = item.find(\"span\", {\"class\",\"infoValueFullBath\"}).find(\"b\").text\n",
    "        except:\n",
    "            d[\"Full Baths\"] = None\n",
    "        try:\n",
    "            d[\"Half Baths\"] = item.find(\"span\", {\"class\",\"infoValueHalfBath\"}).find(\"b\").text\n",
    "        except:\n",
    "            d[\"Half Baths\"] = None\n",
    "        for column_group in item.find_all(\"div\", {\"class\",\"columnGroup\"}):\n",
    "            for feature_group, feature_name in zip(column_group.find_all(\"span\", {\"class\", \"featureGroup\"}), column_group.find_all(\"span\", {\"class\", \"featureName\"})):\n",
    "                if \"Lot Size\" in feature_group.text:\n",
    "                    d[\"Lot Size\"] = feature_name.text\n",
    "        l2.append(d)"
   ]
  },
  {
   "cell_type": "code",
   "execution_count": 25,
   "metadata": {},
   "outputs": [],
   "source": [
    "df2 = pandas.DataFrame(l2)"
   ]
  },
  {
   "cell_type": "code",
   "execution_count": 30,
   "metadata": {},
   "outputs": [],
   "source": [
    "df2.to_csv(\"Output_all_pages.csv\")"
   ]
  },
  {
   "cell_type": "code",
   "execution_count": null,
   "metadata": {},
   "outputs": [],
   "source": []
  }
 ],
 "metadata": {
  "interpreter": {
   "hash": "31f2aee4e71d21fbe5cf8b01ff0e069b9275f58929596ceb00d14d90e3e16cd6"
  },
  "kernelspec": {
   "display_name": "Python 3.9.6 64-bit",
   "name": "python3"
  },
  "language_info": {
   "codemirror_mode": {
    "name": "ipython",
    "version": 3
   },
   "file_extension": ".py",
   "mimetype": "text/x-python",
   "name": "python",
   "nbconvert_exporter": "python",
   "pygments_lexer": "ipython3",
   "version": "3.9.6"
  },
  "orig_nbformat": 4
 },
 "nbformat": 4,
 "nbformat_minor": 2
}
